{
  "nbformat": 4,
  "nbformat_minor": 0,
  "metadata": {
    "colab": {
      "provenance": [],
      "authorship_tag": "ABX9TyN1uuwd+pISsKX/et/Qxmt5",
      "include_colab_link": true
    },
    "kernelspec": {
      "name": "python3",
      "display_name": "Python 3"
    },
    "language_info": {
      "name": "python"
    }
  },
  "cells": [
    {
      "cell_type": "markdown",
      "metadata": {
        "id": "view-in-github",
        "colab_type": "text"
      },
      "source": [
        "<a href=\"https://colab.research.google.com/github/akshayy-ai/python-programs/blob/main/Python_Programs.ipynb\" target=\"_parent\"><img src=\"https://colab.research.google.com/assets/colab-badge.svg\" alt=\"Open In Colab\"/></a>"
      ]
    },
    {
      "cell_type": "markdown",
      "source": [
        "#**1. Write a Python program to abbreviate 'Road' as 'Rd.'**"
      ],
      "metadata": {
        "id": "kwNGasDgypHM"
      }
    },
    {
      "cell_type": "code",
      "source": [
        "def replace_word(s):\n",
        "  result = s.replace('Road','Rd.')    # String Replace Function\n",
        "  return result\n",
        "\n",
        "input_string = \"I live at Sinhgad Road and the construction of Road is going on.\"\n",
        "new_string = replace_word(input_string)\n",
        "print(new_string)"
      ],
      "metadata": {
        "colab": {
          "base_uri": "https://localhost:8080/"
        },
        "id": "XweOlDlpyryw",
        "outputId": "ef76444b-2d65-415b-db74-8a92ed2c0570"
      },
      "execution_count": null,
      "outputs": [
        {
          "output_type": "stream",
          "name": "stdout",
          "text": [
            "I live at Sinhgad Rd. and the construction of Rd. is going on.\n"
          ]
        }
      ]
    },
    {
      "cell_type": "markdown",
      "source": [
        "#**2. Write a Python program to convert a date from yyyy-mm-dd format to dd-mm-yyyy:**"
      ],
      "metadata": {
        "id": "MLyLHp0Zz8sH"
      }
    },
    {
      "cell_type": "code",
      "source": [
        "import datetime\n",
        "\n",
        "date_input = input(\"Enter a date in yyyy-mm-dd format: \")\n",
        "date_format = \"%Y-%m-%d\"  # Changed the date format to match the input\n",
        "\n",
        "new_date = datetime.datetime.strptime(date_input, date_format)\n",
        "new_date_format = new_date.strftime(\"%d-%m-%Y\")  # You can keep this if you want the output in \"day-month-year\" format\n",
        "\n",
        "print(\"Converted date:\", new_date_format)\n",
        "\n"
      ],
      "metadata": {
        "colab": {
          "base_uri": "https://localhost:8080/"
        },
        "id": "hdVbN2IU0lMY",
        "outputId": "a2c1dac2-e9c0-4e7e-9f04-6d4dddab7b72"
      },
      "execution_count": null,
      "outputs": [
        {
          "output_type": "stream",
          "name": "stdout",
          "text": [
            "Enter a date in yyyy-mm-dd format: 2024-10-09\n",
            "Converted date: 09-10-2024\n"
          ]
        }
      ]
    },
    {
      "cell_type": "code",
      "source": [
        "def convert_date(date_str):\n",
        "  year,month,day = date_str.split('-')\n",
        "  new_date= day + '-' + month + '-' + year\n",
        "  return new_date\n",
        "\n",
        "date_input = input(\"Enter a date in yyyy-mm-dd format: \")\n",
        "new_date = convert_date(date_input)\n",
        "print(\"Converted date:\", new_date)"
      ],
      "metadata": {
        "colab": {
          "base_uri": "https://localhost:8080/"
        },
        "id": "cFgn_kcM2XuN",
        "outputId": "30086a71-d932-4845-84c9-27a9bb272b64"
      },
      "execution_count": null,
      "outputs": [
        {
          "output_type": "stream",
          "name": "stdout",
          "text": [
            "Enter a date in yyyy-mm-dd format: 2024-12-10\n",
            "Converted date: 10-12-2024\n"
          ]
        }
      ]
    },
    {
      "cell_type": "markdown",
      "source": [
        "# **3. Write a Python program to replace whitespaces with an underscore and vice versa**"
      ],
      "metadata": {
        "id": "GUQ7Z2tG3GU4"
      }
    },
    {
      "cell_type": "code",
      "source": [
        "input_string=\"Hi This is Akshay_AI\"\n",
        "\n",
        "new_string=input_string.replace(\" \",\"_\")\n",
        "print(new_string)\n",
        "\n",
        "new_string=input_string.replace(\"_\",\" \")\n",
        "print(new_string)\n"
      ],
      "metadata": {
        "colab": {
          "base_uri": "https://localhost:8080/"
        },
        "id": "1jnNjqiP3ncw",
        "outputId": "8206d7a8-2cd0-40fb-d964-5a2e036f87d0"
      },
      "execution_count": null,
      "outputs": [
        {
          "output_type": "stream",
          "name": "stdout",
          "text": [
            "Hi_This_is_Akshay_AI\n",
            "Hi This is Akshay AI\n"
          ]
        }
      ]
    },
    {
      "cell_type": "markdown",
      "source": [
        "#**4  Python Program to Find the perimeter of a cylinder**"
      ],
      "metadata": {
        "id": "jgH8Aa-S1ldT"
      }
    },
    {
      "cell_type": "code",
      "source": [
        "import math\n",
        "\n",
        "def perimeter_of_cylinder(radius, height):\n",
        "\n",
        "    circumference = 2 * math.pi * radius\n",
        "\n",
        "    perimeter = 2 * circumference\n",
        "\n",
        "    return perimeter\n",
        "\n",
        "# Input radius and height from user\n",
        "radius = float(input(\"Enter the radius of the cylinder: \"))\n",
        "height = float(input(\"Enter the height of the cylinder: \"))\n",
        "\n",
        "# Calculate the perimeter\n",
        "perimeter = perimeter_of_cylinder(radius, height)\n",
        "\n",
        "# Display the result\n",
        "print(\"The perimeter of the cylinder is:\",perimeter)\n"
      ],
      "metadata": {
        "id": "PlkcAW6h1x4A",
        "colab": {
          "base_uri": "https://localhost:8080/"
        },
        "outputId": "f76f3b67-3310-411f-eb48-473da09c38f1"
      },
      "execution_count": 16,
      "outputs": [
        {
          "output_type": "stream",
          "name": "stdout",
          "text": [
            "Enter the radius of the cylinder: 9\n",
            "Enter the height of the cylinder: 9\n",
            "The perimeter of the cylinder is: 113.09733552923255\n"
          ]
        }
      ]
    },
    {
      "cell_type": "markdown",
      "source": [
        "# **5. Write a Python program to find all words starting with 'a' or 'e' in a given string.**\n"
      ],
      "metadata": {
        "id": "0GPCB2kR21xS"
      }
    },
    {
      "cell_type": "code",
      "source": [
        "import re # Regular Expression\n",
        "\n",
        "text = \"Akshay, Ela, Sanket, Akshada\"\n",
        "pattern = r'\\b[aAEe]\\w*'\n",
        "\n",
        "# \\b : To match whole word\n",
        "# [aAeE]: Matches any word starting with 'a' or 'e', case-insensitive.\n",
        "# \\w*: Matches zero or more word characters following  starting letter.\n",
        "\n",
        "result = re.findall(pattern, text)\n",
        "\n",
        "print(result)"
      ],
      "metadata": {
        "id": "wrcbomSo253X",
        "colab": {
          "base_uri": "https://localhost:8080/"
        },
        "outputId": "de9b068e-b892-4ad2-eaba-e61e126141d7"
      },
      "execution_count": 15,
      "outputs": [
        {
          "output_type": "stream",
          "name": "stdout",
          "text": [
            "['Akshay', 'Ela', 'Akshada']\n"
          ]
        }
      ]
    }
  ]
}